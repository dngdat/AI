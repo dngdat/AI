{
  "nbformat": 4,
  "nbformat_minor": 0,
  "metadata": {
    "colab": {
      "provenance": [],
      "authorship_tag": "ABX9TyPYDaL3MtHt7BCHWDwq6c94",
      "include_colab_link": true
    },
    "kernelspec": {
      "name": "python3",
      "display_name": "Python 3"
    },
    "language_info": {
      "name": "python"
    }
  },
  "cells": [
    {
      "cell_type": "markdown",
      "metadata": {
        "id": "view-in-github",
        "colab_type": "text"
      },
      "source": [
        "<a href=\"https://colab.research.google.com/github/dngdat/AI/blob/main/w1.ipynb\" target=\"_parent\"><img src=\"https://colab.research.google.com/assets/colab-badge.svg\" alt=\"Open In Colab\"/></a>"
      ]
    },
    {
      "cell_type": "markdown",
      "source": [
        "Đăngh Thành Đạt – 20146487\n",
        "\n",
        "Lớp sáng thứ 5 tiết 1-4\n",
        "1. Trí tuệ nhân tạo (AI) là công nghệ mô phòng các quá trình suy nghĩ và học tập của con người cho máy móc, đặc biệt là hệ thống máy tính. Trí tuệ nhân tạo do con người lập trình ra với mục đích tự động hóa các hành vi thông minh như con người, từ đó cắt giảm bớt nhân công là con người và có tính chuẩn xác cao hơn. Trí tuệ nhân tạo có thể giúp chúng ta nâng cao chất lượng và đóng góp cho nhiều lĩnh vực trong cuộc sống của con người.\n",
        "2. Artificial Intelligence, Machine Learning and Deep Learning là ba khái niệm có mối quan hệ chặt chẽ với nhau. Machine Learning là một phần của trí tuệ nhân tạo, nó giúp cho máy tính học hỏi và cải thiện hiệu suất theo thời gian. Deep Learning là một phương pháp học máy sử dụng các mạng thần kinh sâu để xử lý dữ liệu phức tạp. Deep Learning là một hình thức đặc biệt của học máy, nó cho phép máy tính học hỏi và tìm hiểu các đặc trưng trừu tượng trong dữ liệu.\n",
        "3. Ứng dụng trí tuệ nhân tạo trong lĩnh vực y tế đó như máy bay thiết bị bay không cần người lái được sử dụng trong những trường hợp cứu hộ khẩn cấp. Thiết bị bay không người lái có thể đạt được tốc độ nhanh hơn xe chuyên dụng đến 40% và cực kì thích hợp để sử dụng ở những nơi có địa hình hiểm trở. Ứng dụng trí tuệ nhân tạo trong các thiết bị điện tử với những trợ lý ảo như Siri, Alexa... Trí tuệ nhân tạo giúp các trợ lý ảo linh hoạt hơn trong xử lý yêu cầu nhờ học hỏi thói quen sinh hoạt của người dùng và dự đoán cảm xúc. Ngoài ra, các ứng dụng AI khác trong cuộc sống.\n",
        "4. Con chip dành cho mạng thần kinh sâu và bộ xử lý Ascend AI của Huawei là Ascend 910 và Ascend 310. Bốn mô-đun lớn của Ascend AI bao gồm:\n",
        "- Mô-đun tính toán: Sử dụng kiến trúc đa lõi để tối ưu hoá hiệu suất tính toán của bộ xử lý.\n",
        "- Mô-đun bộ nhớ: Sử dụng bộ nhớ tập trung để giảm độ trễ và tăng tốc độ truy cập dữ liệu.\n",
        "- Mô-đun mạng nơ-ron: Bao gồm một bộ xử lý nơ-ron tùy chỉnh với khả năng tích hợp nhiều mô-đun xử lý nơ-ron khác nhau để hỗ trợ các tác vụ khác nhau.\n",
        "- Mô-đun ứng dụng: Hỗ trợ triển khai các ứng dụng trí tuệ nhân tạo khác nhau trên các thiết bị.\n",
        "5. Trí tuệ nhân tạo (AI) là một lĩnh vực rộng lớn đang phát triển rất nhanh, với nhiều ứng dụng khác nhau trong đời sống. Trí tuệ nhân tạo đã bước vào cuộc sống và nhanh chóng trở thành một phần không thể thiếu đối với chúng ta. AI đang và sẽ tiếp tục phát triển lớn mạnh trong tương lai và mang lại nhiều lợi ích cho con người:\n",
        "Tăng cường khả năng học tập của AI: Một trong những thách thức lớn nhất của AI hiện nay là khả năng học tập hạn chế của chúng. AI sẽ có khả năng học tập và điều chỉnh bản thân nhanh hơn, tự động hóa quá trình học tập và phát triển một cách đáng kể.\n",
        "AI sẽ được tích hợp vào nhiều lĩnh vực khác nhau: AI đang được sử dụng trong nhiều lĩnh vực khác nhau, từ y tế đến kinh doanh và giáo dục. Trong tương lai, AI sẽ tiếp tục được tích hợp vào nhiều lĩnh vực khác nhau, giúp chúng ta tăng cường hiệu quả công việc, đẩy nhanh tiến độ, tối ưu hóa quá trình sản xuất và nâng cao chất lượng cuộc sống."
      ],
      "metadata": {
        "id": "jULlV0keIaV4"
      }
    }
  ]
}